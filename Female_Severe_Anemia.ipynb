{
 "cells": [
  {
   "cell_type": "code",
   "execution_count": 1,
   "metadata": {},
   "outputs": [],
   "source": [
    "import pandas as pd\n",
    "import numpy as np\n",
    "import warnings\n",
    "warnings.filterwarnings('ignore')"
   ]
  },
  {
   "cell_type": "code",
   "execution_count": 2,
   "metadata": {},
   "outputs": [],
   "source": [
    "#Read combined CSV File"
   ]
  },
  {
   "cell_type": "code",
   "execution_count": 3,
   "metadata": {},
   "outputs": [],
   "source": [
    "df=pd.read_csv('C:\\\\Users\\\\HP\\\\Project\\\\data\\\\combined_csv.csv')"
   ]
  },
  {
   "cell_type": "code",
   "execution_count": 4,
   "metadata": {},
   "outputs": [
    {
     "data": {
      "text/plain": [
       "1025277"
      ]
     },
     "execution_count": 4,
     "metadata": {},
     "output_type": "execute_result"
    }
   ],
   "source": [
    "data = df[(df['Age_Code']=='Year')&(df['Age']>=15)&(df['Age']<=49)]\n",
    "len(data)"
   ]
  },
  {
   "cell_type": "code",
   "execution_count": 5,
   "metadata": {},
   "outputs": [],
   "source": [
    "#Drop rows in which HB is null "
   ]
  },
  {
   "cell_type": "code",
   "execution_count": 6,
   "metadata": {},
   "outputs": [],
   "source": [
    "data = data.dropna(subset=['Haemoglobin_level'],axis=0)\n"
   ]
  },
  {
   "cell_type": "code",
   "execution_count": 7,
   "metadata": {},
   "outputs": [],
   "source": [
    "#Drop Columns of 3 years and 5 years"
   ]
  },
  {
   "cell_type": "code",
   "execution_count": 8,
   "metadata": {},
   "outputs": [],
   "source": [
    "cols_under5 = ['illness_type','illness_duration', 'treatment_type']\n",
    "cols_under3 = ['first_breast_feeding', 'is_cur_breast_feeding',\n",
    "       'day_or_mn_for_breast_feeding_cd', 'day_or_month_for_breast_feeding',\n",
    "       'water_month', 'ani_milk_month', 'semisolid_month_or_day',\n",
    "       'solid_month', 'vegetables_month_or_day']\n",
    "data = data.drop(cols_under5, axis = 1)\n",
    "data = data.drop(cols_under3, axis = 1)"
   ]
  },
  {
   "cell_type": "code",
   "execution_count": 9,
   "metadata": {},
   "outputs": [],
   "source": [
    "# Drop unwanted variables\n",
    "data = data.drop(['PSU_ID', 'ahs_house_unit', 'house_hold_no','date_survey', 'record_code_iodine_reason', 'sl_no', 'usual_residance', 'usual_residance_Reason', 'identification_code','Age_Code','date_of_birth', 'month_of_birth', 'year_of_birth','Weight_measured','Length_height_measured',\n",
    "       'length_height_code','Haemoglobin_test','Haemoglobin','Diabetes_test', 'fasting_blood_glucose'], axis = 1)"
   ]
  },
  {
   "cell_type": "code",
   "execution_count": 10,
   "metadata": {},
   "outputs": [],
   "source": [
    "# Mapping the labels non numeric to numeric"
   ]
  },
  {
   "cell_type": "code",
   "execution_count": 11,
   "metadata": {},
   "outputs": [],
   "source": [
    "data['Sex'] = data['Sex'].map({'Male': 1, 'Female': 2})"
   ]
  },
  {
   "cell_type": "code",
   "execution_count": 12,
   "metadata": {},
   "outputs": [],
   "source": [
    "data['state_code'] = data['state_code'].astype('category')\n",
    "# Assigning numerical values and storing in another column\n",
    "data['state_code'] = data['state_code'].cat.codes"
   ]
  },
  {
   "cell_type": "code",
   "execution_count": 13,
   "metadata": {},
   "outputs": [],
   "source": [
    "data['rural_urban'] = data['rural_urban'].astype('category')\n",
    "# Assigning numerical values and storing in another column\n",
    "data['rural_urban'] = data['rural_urban'].cat.codes\n"
   ]
  },
  {
   "cell_type": "code",
   "execution_count": 14,
   "metadata": {},
   "outputs": [],
   "source": [
    "data['district_code'] = data['district_code'].astype('category')\n",
    "# Assigning numerical values and storing in another column\n",
    "data['district_code'] = data['district_code'].cat.codes\n"
   ]
  },
  {
   "cell_type": "code",
   "execution_count": 15,
   "metadata": {},
   "outputs": [],
   "source": [
    "data['stratum'] = data['stratum'].astype('category')\n",
    "# Assigning numerical values and storing in another column\n",
    "data['stratum'] = data['stratum'].cat.codes"
   ]
  },
  {
   "cell_type": "code",
   "execution_count": 16,
   "metadata": {},
   "outputs": [],
   "source": [
    "data['record_code_iodine'] = data['record_code_iodine'].astype('category')\n",
    "# Assigning numerical values and storing in another column\n",
    "data['record_code_iodine'] = data['record_code_iodine'].cat.codes\n"
   ]
  },
  {
   "cell_type": "code",
   "execution_count": 17,
   "metadata": {},
   "outputs": [],
   "source": [
    "data['Marital_status'] = data['Marital_status'].map({'Married and Gauna perfomed': 1, 'Never married': 2,'Married but Gauna not performed':3,'Widow':4,\n",
    "                                                    'Separated':5,'Divorced':6,'Remarried':7,'Not Stated':8,'NaN':-1})"
   ]
  },
  {
   "cell_type": "code",
   "execution_count": 18,
   "metadata": {},
   "outputs": [
    {
     "data": {
      "text/plain": [
       "1.0    226780\n",
       "2.0     81874\n",
       "3.0      7091\n",
       "4.0      4277\n",
       "8.0       908\n",
       "5.0       779\n",
       "6.0       368\n",
       "7.0       243\n",
       "Name: Marital_status, dtype: int64"
      ]
     },
     "execution_count": 18,
     "metadata": {},
     "output_type": "execute_result"
    }
   ],
   "source": [
    "data['Marital_status'].value_counts()"
   ]
  },
  {
   "cell_type": "code",
   "execution_count": 19,
   "metadata": {},
   "outputs": [],
   "source": [
    "data['Marital_status'] = data['Marital_status'].where(~(data['Marital_status']==8.0), other = np.nan)"
   ]
  },
  {
   "cell_type": "code",
   "execution_count": 20,
   "metadata": {},
   "outputs": [],
   "source": [
    "data['gauna_perfor_not_perfor'] = data['gauna_perfor_not_perfor'].map({'Pregnant':1, 'Lactating': 2,'Non-pregnant or Non-lactating':3})"
   ]
  },
  {
   "cell_type": "code",
   "execution_count": 21,
   "metadata": {},
   "outputs": [],
   "source": [
    "# Plot the weight and height in which they are not null "
   ]
  },
  {
   "cell_type": "code",
   "execution_count": 22,
   "metadata": {},
   "outputs": [],
   "source": [
    "from matplotlib import pyplot as plt # plotting\n",
    "from math import *"
   ]
  },
  {
   "cell_type": "code",
   "execution_count": 23,
   "metadata": {},
   "outputs": [
    {
     "data": {
      "text/plain": [
       "<function matplotlib.pyplot.show(*args, **kw)>"
      ]
     },
     "execution_count": 23,
     "metadata": {},
     "output_type": "execute_result"
    },
    {
     "data": {
      "image/png": "[encoded data removed]",
      "text/plain": [
       "<Figure size 432x288 with 1 Axes>"
      ]
     },
     "metadata": {
      "needs_background": "light"
     },
     "output_type": "display_data"
    }
   ],
   "source": [
    "plt.boxplot(data['Weight_in_kg'].dropna())\n",
    "plt.title('Weight with outliers')\n",
    "plt.show"
   ]
  },
  {
   "cell_type": "code",
   "execution_count": 24,
   "metadata": {},
   "outputs": [
    {
     "data": {
      "text/plain": [
       "<function matplotlib.pyplot.show(*args, **kw)>"
      ]
     },
     "execution_count": 24,
     "metadata": {},
     "output_type": "execute_result"
    },
    {
     "data": {
      "image/png": "[encoded data removed]",
      "text/plain": [
       "<Figure size 432x288 with 1 Axes>"
      ]
     },
     "metadata": {
      "needs_background": "light"
     },
     "output_type": "display_data"
    }
   ],
   "source": [
    "plt.boxplot(data['Length_height_cm'].dropna())\n",
    "plt.title('Height with outliers')\n",
    "plt.show"
   ]
  },
  {
   "cell_type": "code",
   "execution_count": 25,
   "metadata": {},
   "outputs": [],
   "source": [
    "# Remove outliers for height and weight"
   ]
  },
  {
   "cell_type": "code",
   "execution_count": 26,
   "metadata": {},
   "outputs": [],
   "source": [
    "def remove_outliers(data, feature):\n",
    "    stdev = sqrt(np.var(data[feature].dropna()))\n",
    "    median = np.median(data[feature].dropna())\n",
    "    print(\"number of discarded measurements\")\n",
    "    display(len(data[[feature]].where(abs(data[feature] - median)>(3*stdev)).dropna()))\n",
    "# keep original values if difference from mean is less than 3 standard deviations. NA otherwise\n",
    "    return data[[feature]].where(abs(data[feature] - median)<(3*stdev), other = np.nan)"
   ]
  },
  {
   "cell_type": "code",
   "execution_count": 27,
   "metadata": {},
   "outputs": [
    {
     "name": "stdout",
     "output_type": "stream",
     "text": [
      "number of discarded measurements\n"
     ]
    },
    {
     "data": {
      "text/plain": [
       "2997"
      ]
     },
     "metadata": {},
     "output_type": "display_data"
    }
   ],
   "source": [
    "data['Length_height_cm'] = remove_outliers(data, 'Length_height_cm')"
   ]
  },
  {
   "cell_type": "code",
   "execution_count": 28,
   "metadata": {},
   "outputs": [
    {
     "name": "stdout",
     "output_type": "stream",
     "text": [
      "number of discarded measurements\n"
     ]
    },
    {
     "data": {
      "text/plain": [
       "1688"
      ]
     },
     "metadata": {},
     "output_type": "display_data"
    }
   ],
   "source": [
    "print('number of discarded measurements')\n",
    "display(len(data[data['Weight_in_kg']<20]))\n",
    "data['Weight_in_kg'] = data['Weight_in_kg'].where(data['Weight_in_kg']>20, other=np.nan)"
   ]
  },
  {
   "cell_type": "code",
   "execution_count": 29,
   "metadata": {},
   "outputs": [
    {
     "data": {
      "text/plain": [
       "<function matplotlib.pyplot.show(*args, **kw)>"
      ]
     },
     "execution_count": 29,
     "metadata": {},
     "output_type": "execute_result"
    },
    {
     "data": {
      "image/png": "[encoded data removed]",
      "text/plain": [
       "<Figure size 432x288 with 1 Axes>"
      ]
     },
     "metadata": {
      "needs_background": "light"
     },
     "output_type": "display_data"
    }
   ],
   "source": [
    "plt.boxplot(data['Weight_in_kg'].dropna())\n",
    "plt.title('Weight without outliers')\n",
    "plt.show"
   ]
  },
  {
   "cell_type": "code",
   "execution_count": 30,
   "metadata": {},
   "outputs": [
    {
     "data": {
      "text/plain": [
       "<function matplotlib.pyplot.show(*args, **kw)>"
      ]
     },
     "execution_count": 30,
     "metadata": {},
     "output_type": "execute_result"
    },
    {
     "data": {
      "image/png": "[encoded data removed]",
      "text/plain": [
       "<Figure size 432x288 with 1 Axes>"
      ]
     },
     "metadata": {
      "needs_background": "light"
     },
     "output_type": "display_data"
    }
   ],
   "source": [
    "plt.boxplot(data['Length_height_cm'].dropna())\n",
    "plt.title('Height without outliers')\n",
    "plt.show"
   ]
  },
  {
   "cell_type": "code",
   "execution_count": 31,
   "metadata": {},
   "outputs": [],
   "source": [
    "# Calculate body mass index for male and female age above 15"
   ]
  },
  {
   "cell_type": "code",
   "execution_count": 32,
   "metadata": {},
   "outputs": [],
   "source": [
    "data['bmi'] = data['Weight_in_kg']/(data['Length_height_cm']/100)**2"
   ]
  },
  {
   "cell_type": "code",
   "execution_count": 33,
   "metadata": {},
   "outputs": [
    {
     "data": {
      "image/png": "[encoded data removed]",
      "text/plain": [
       "<Figure size 432x288 with 1 Axes>"
      ]
     },
     "metadata": {
      "needs_background": "light"
     },
     "output_type": "display_data"
    }
   ],
   "source": [
    "plt.boxplot(data['Weight_in_kg'].dropna())\n",
    "plt.title('Weight without outliers')\n",
    "plt.show()"
   ]
  },
  {
   "cell_type": "code",
   "execution_count": 34,
   "metadata": {},
   "outputs": [
    {
     "data": {
      "image/png": "[encoded data removed]",
      "text/plain": [
       "<Figure size 432x288 with 1 Axes>"
      ]
     },
     "metadata": {
      "needs_background": "light"
     },
     "output_type": "display_data"
    }
   ],
   "source": [
    "plt.hist(data['Length_height_cm'].dropna(), bins = 50)\n",
    "plt.title('Height without outliers')\n",
    "plt.show()"
   ]
  },
  {
   "cell_type": "code",
   "execution_count": 35,
   "metadata": {},
   "outputs": [
    {
     "data": {
      "image/png": "[encoded data removed]",
      "text/plain": [
       "<Figure size 432x288 with 1 Axes>"
      ]
     },
     "metadata": {
      "needs_background": "light"
     },
     "output_type": "display_data"
    }
   ],
   "source": [
    "plt.boxplot(data['bmi'].dropna())\n",
    "plt.title('BMI')\n",
    "plt.show()"
   ]
  },
  {
   "cell_type": "code",
   "execution_count": 36,
   "metadata": {},
   "outputs": [],
   "source": [
    "# Remove outliers for BP Systolic, BP Diastolic And Pulse Rate "
   ]
  },
  {
   "cell_type": "code",
   "execution_count": 37,
   "metadata": {},
   "outputs": [],
   "source": [
    "def remove_outliers_difference(data, col1, col2):\n",
    "    stdev = sqrt((data[col1] - data[col2]).var())\n",
    "# how many measurements were excluded\n",
    "    print('number of discarded measurements')\n",
    "    display(len(data[[col1, col2]].where(abs(data[col1] - data[col2])>(3*stdev)).dropna()))\n",
    "# keep original values if difference of two measurements is less than 3 standard deviations. NA otherwise\n",
    "    return data[[col1, col2]].where(abs(data[col1] - data[col2])<(3*stdev), other = np.nan)"
   ]
  },
  {
   "cell_type": "code",
   "execution_count": 38,
   "metadata": {},
   "outputs": [
    {
     "name": "stdout",
     "output_type": "stream",
     "text": [
      "number of discarded measurements\n"
     ]
    },
    {
     "data": {
      "text/plain": [
       "7126"
      ]
     },
     "metadata": {},
     "output_type": "display_data"
    },
    {
     "name": "stdout",
     "output_type": "stream",
     "text": [
      "number of discarded measurements\n"
     ]
    },
    {
     "data": {
      "text/plain": [
       "9627"
      ]
     },
     "metadata": {},
     "output_type": "display_data"
    },
    {
     "name": "stdout",
     "output_type": "stream",
     "text": [
      "number of discarded measurements\n"
     ]
    },
    {
     "data": {
      "text/plain": [
       "9047"
      ]
     },
     "metadata": {},
     "output_type": "display_data"
    }
   ],
   "source": [
    "data[['BP_systolic', 'BP_systolic_2_reading']] = remove_outliers_difference(data, 'BP_systolic', 'BP_systolic_2_reading')\n",
    "data[['BP_Diastolic', 'BP_Diastolic_2reading']] = remove_outliers_difference(data, 'BP_Diastolic', 'BP_Diastolic_2reading')\n",
    "data[['Pulse_rate', 'Pulse_rate_2_reading']] = remove_outliers_difference(data, 'Pulse_rate', 'Pulse_rate_2_reading')"
   ]
  },
  {
   "cell_type": "code",
   "execution_count": 39,
   "metadata": {},
   "outputs": [],
   "source": [
    "# function for aggregate_reading of BP_systolic,BP_Diastolic and Pulse_rate"
   ]
  },
  {
   "cell_type": "code",
   "execution_count": 40,
   "metadata": {},
   "outputs": [],
   "source": [
    "def aggregate_readings(data, col1, col2):\n",
    "    data[col1] = data.apply(lambda row: sum([row[col1], row[col2]])/2, axis = 1)\n",
    "    data = data.drop(col2, axis = 1)\n",
    "    return data"
   ]
  },
  {
   "cell_type": "code",
   "execution_count": 41,
   "metadata": {},
   "outputs": [],
   "source": [
    "data = aggregate_readings(data, 'BP_systolic', 'BP_systolic_2_reading')\n",
    "data = aggregate_readings(data, 'BP_Diastolic', 'BP_Diastolic_2reading')\n",
    "data = aggregate_readings(data, 'Pulse_rate', 'Pulse_rate_2_reading')"
   ]
  },
  {
   "cell_type": "code",
   "execution_count": 42,
   "metadata": {},
   "outputs": [],
   "source": [
    "data[['BP_Diastolic', 'BP_systolic']] = data[['BP_Diastolic', 'BP_systolic']].where(data.BP_Diastolic < data.BP_systolic, other = np.nan)"
   ]
  },
  {
   "cell_type": "code",
   "execution_count": 43,
   "metadata": {},
   "outputs": [],
   "source": [
    "#Plot Histogram for HB & fasting_blood_glucose"
   ]
  },
  {
   "cell_type": "code",
   "execution_count": 44,
   "metadata": {},
   "outputs": [
    {
     "data": {
      "text/plain": [
       "<function matplotlib.pyplot.show(*args, **kw)>"
      ]
     },
     "execution_count": 44,
     "metadata": {},
     "output_type": "execute_result"
    },
    {
     "data": {
      "image/png": "[encoded data removed]",
      "text/plain": [
       "<Figure size 432x288 with 1 Axes>"
      ]
     },
     "metadata": {
      "needs_background": "light"
     },
     "output_type": "display_data"
    }
   ],
   "source": [
    "plt.hist(data['Haemoglobin_level'], bins = 50)\n",
    "plt.title('Blood haemoglobin')\n",
    "plt.show"
   ]
  },
  {
   "cell_type": "code",
   "execution_count": 45,
   "metadata": {},
   "outputs": [
    {
     "data": {
      "text/plain": [
       "<function matplotlib.pyplot.show(*args, **kw)>"
      ]
     },
     "execution_count": 45,
     "metadata": {},
     "output_type": "execute_result"
    },
    {
     "data": {
      "image/png": "[encoded data removed]",
      "text/plain": [
       "<Figure size 432x288 with 1 Axes>"
      ]
     },
     "metadata": {
      "needs_background": "light"
     },
     "output_type": "display_data"
    }
   ],
   "source": [
    "plt.hist(data.fasting_blood_glucose_mg_dl[~np.isnan(data.fasting_blood_glucose_mg_dl)], bins=50)\n",
    "plt.title('Blood sugar')\n",
    "plt.show"
   ]
  },
  {
   "cell_type": "code",
   "execution_count": 46,
   "metadata": {},
   "outputs": [],
   "source": [
    "#Remove Outliers for fasting_blood_glucose"
   ]
  },
  {
   "cell_type": "code",
   "execution_count": 47,
   "metadata": {},
   "outputs": [
    {
     "name": "stdout",
     "output_type": "stream",
     "text": [
      "number of discarded measurements\n"
     ]
    },
    {
     "data": {
      "text/plain": [
       "5935"
      ]
     },
     "metadata": {},
     "output_type": "display_data"
    }
   ],
   "source": [
    "data['fasting_blood_glucose_mg_dl'] = remove_outliers(data,'fasting_blood_glucose_mg_dl')"
   ]
  },
  {
   "cell_type": "code",
   "execution_count": 48,
   "metadata": {},
   "outputs": [
    {
     "data": {
      "text/plain": [
       "<function matplotlib.pyplot.show(*args, **kw)>"
      ]
     },
     "execution_count": 48,
     "metadata": {},
     "output_type": "execute_result"
    },
    {
     "data": {
      "image/png": "[encoded data removed]",
      "text/plain": [
       "<Figure size 432x288 with 1 Axes>"
      ]
     },
     "metadata": {
      "needs_background": "light"
     },
     "output_type": "display_data"
    }
   ],
   "source": [
    "plt.boxplot(data['duration_pregnanacy'].dropna())\n",
    "plt.show"
   ]
  },
  {
   "cell_type": "code",
   "execution_count": 49,
   "metadata": {},
   "outputs": [],
   "source": [
    "# Correlation Biomarkers with all other variables"
   ]
  },
  {
   "cell_type": "code",
   "execution_count": 50,
   "metadata": {},
   "outputs": [
    {
     "data": {
      "text/html": [
       "<div>\n",
       "<style scoped>\n",
       "    .dataframe tbody tr th:only-of-type {\n",
       "        vertical-align: middle;\n",
       "    }\n",
       "\n",
       "    .dataframe tbody tr th {\n",
       "        vertical-align: top;\n",
       "    }\n",
       "\n",
       "    .dataframe thead th {\n",
       "        text-align: right;\n",
       "    }\n",
       "</style>\n",
       "<table border=\"1\" class=\"dataframe\">\n",
       "  <thead>\n",
       "    <tr style=\"text-align: right;\">\n",
       "      <th></th>\n",
       "      <th>Haemoglobin_level</th>\n",
       "      <th>Pulse_rate</th>\n",
       "      <th>BP_Diastolic</th>\n",
       "      <th>BP_systolic</th>\n",
       "      <th>fasting_blood_glucose_mg_dl</th>\n",
       "    </tr>\n",
       "  </thead>\n",
       "  <tbody>\n",
       "    <tr>\n",
       "      <th>state_code</th>\n",
       "      <td>NaN</td>\n",
       "      <td>NaN</td>\n",
       "      <td>NaN</td>\n",
       "      <td>NaN</td>\n",
       "      <td>NaN</td>\n",
       "    </tr>\n",
       "    <tr>\n",
       "      <th>district_code</th>\n",
       "      <td>NaN</td>\n",
       "      <td>NaN</td>\n",
       "      <td>NaN</td>\n",
       "      <td>NaN</td>\n",
       "      <td>NaN</td>\n",
       "    </tr>\n",
       "    <tr>\n",
       "      <th>rural_urban</th>\n",
       "      <td>NaN</td>\n",
       "      <td>NaN</td>\n",
       "      <td>NaN</td>\n",
       "      <td>NaN</td>\n",
       "      <td>NaN</td>\n",
       "    </tr>\n",
       "    <tr>\n",
       "      <th>stratum</th>\n",
       "      <td>NaN</td>\n",
       "      <td>NaN</td>\n",
       "      <td>NaN</td>\n",
       "      <td>NaN</td>\n",
       "      <td>NaN</td>\n",
       "    </tr>\n",
       "    <tr>\n",
       "      <th>test_salt_iodine</th>\n",
       "      <td>NaN</td>\n",
       "      <td>NaN</td>\n",
       "      <td>NaN</td>\n",
       "      <td>NaN</td>\n",
       "      <td>NaN</td>\n",
       "    </tr>\n",
       "    <tr>\n",
       "      <th>record_code_iodine</th>\n",
       "      <td>NaN</td>\n",
       "      <td>NaN</td>\n",
       "      <td>NaN</td>\n",
       "      <td>NaN</td>\n",
       "      <td>NaN</td>\n",
       "    </tr>\n",
       "    <tr>\n",
       "      <th>Sex</th>\n",
       "      <td>-0.178656</td>\n",
       "      <td>0.167566</td>\n",
       "      <td>NaN</td>\n",
       "      <td>-0.124442</td>\n",
       "      <td>NaN</td>\n",
       "    </tr>\n",
       "    <tr>\n",
       "      <th>Age</th>\n",
       "      <td>NaN</td>\n",
       "      <td>NaN</td>\n",
       "      <td>0.184492</td>\n",
       "      <td>0.213325</td>\n",
       "      <td>0.127532</td>\n",
       "    </tr>\n",
       "    <tr>\n",
       "      <th>Weight_in_kg</th>\n",
       "      <td>0.115508</td>\n",
       "      <td>NaN</td>\n",
       "      <td>0.281701</td>\n",
       "      <td>0.270148</td>\n",
       "      <td>0.106400</td>\n",
       "    </tr>\n",
       "    <tr>\n",
       "      <th>Length_height_cm</th>\n",
       "      <td>0.181311</td>\n",
       "      <td>-0.110651</td>\n",
       "      <td>0.108778</td>\n",
       "      <td>0.109140</td>\n",
       "      <td>NaN</td>\n",
       "    </tr>\n",
       "    <tr>\n",
       "      <th>Haemoglobin_level</th>\n",
       "      <td>1.000000</td>\n",
       "      <td>NaN</td>\n",
       "      <td>NaN</td>\n",
       "      <td>NaN</td>\n",
       "      <td>NaN</td>\n",
       "    </tr>\n",
       "    <tr>\n",
       "      <th>BP_systolic</th>\n",
       "      <td>NaN</td>\n",
       "      <td>NaN</td>\n",
       "      <td>0.687652</td>\n",
       "      <td>1.000000</td>\n",
       "      <td>0.107727</td>\n",
       "    </tr>\n",
       "    <tr>\n",
       "      <th>BP_Diastolic</th>\n",
       "      <td>NaN</td>\n",
       "      <td>0.186358</td>\n",
       "      <td>1.000000</td>\n",
       "      <td>0.687652</td>\n",
       "      <td>NaN</td>\n",
       "    </tr>\n",
       "    <tr>\n",
       "      <th>Pulse_rate</th>\n",
       "      <td>NaN</td>\n",
       "      <td>1.000000</td>\n",
       "      <td>0.186358</td>\n",
       "      <td>NaN</td>\n",
       "      <td>NaN</td>\n",
       "    </tr>\n",
       "    <tr>\n",
       "      <th>fasting_blood_glucose_mg_dl</th>\n",
       "      <td>NaN</td>\n",
       "      <td>NaN</td>\n",
       "      <td>NaN</td>\n",
       "      <td>0.107727</td>\n",
       "      <td>1.000000</td>\n",
       "    </tr>\n",
       "    <tr>\n",
       "      <th>Marital_status</th>\n",
       "      <td>NaN</td>\n",
       "      <td>NaN</td>\n",
       "      <td>NaN</td>\n",
       "      <td>NaN</td>\n",
       "      <td>NaN</td>\n",
       "    </tr>\n",
       "    <tr>\n",
       "      <th>gauna_perfor_not_perfor</th>\n",
       "      <td>NaN</td>\n",
       "      <td>NaN</td>\n",
       "      <td>0.105092</td>\n",
       "      <td>0.113688</td>\n",
       "      <td>NaN</td>\n",
       "    </tr>\n",
       "    <tr>\n",
       "      <th>duration_pregnanacy</th>\n",
       "      <td>NaN</td>\n",
       "      <td>NaN</td>\n",
       "      <td>NaN</td>\n",
       "      <td>NaN</td>\n",
       "      <td>NaN</td>\n",
       "    </tr>\n",
       "    <tr>\n",
       "      <th>bmi</th>\n",
       "      <td>NaN</td>\n",
       "      <td>NaN</td>\n",
       "      <td>0.258305</td>\n",
       "      <td>0.241987</td>\n",
       "      <td>NaN</td>\n",
       "    </tr>\n",
       "  </tbody>\n",
       "</table>\n",
       "</div>"
      ],
      "text/plain": [
       "                             Haemoglobin_level  Pulse_rate  BP_Diastolic  \\\n",
       "state_code                                 NaN         NaN           NaN   \n",
       "district_code                              NaN         NaN           NaN   \n",
       "rural_urban                                NaN         NaN           NaN   \n",
       "stratum                                    NaN         NaN           NaN   \n",
       "test_salt_iodine                           NaN         NaN           NaN   \n",
       "record_code_iodine                         NaN         NaN           NaN   \n",
       "Sex                                  -0.178656    0.167566           NaN   \n",
       "Age                                        NaN         NaN      0.184492   \n",
       "Weight_in_kg                          0.115508         NaN      0.281701   \n",
       "Length_height_cm                      0.181311   -0.110651      0.108778   \n",
       "Haemoglobin_level                     1.000000         NaN           NaN   \n",
       "BP_systolic                                NaN         NaN      0.687652   \n",
       "BP_Diastolic                               NaN    0.186358      1.000000   \n",
       "Pulse_rate                                 NaN    1.000000      0.186358   \n",
       "fasting_blood_glucose_mg_dl                NaN         NaN           NaN   \n",
       "Marital_status                             NaN         NaN           NaN   \n",
       "gauna_perfor_not_perfor                    NaN         NaN      0.105092   \n",
       "duration_pregnanacy                        NaN         NaN           NaN   \n",
       "bmi                                        NaN         NaN      0.258305   \n",
       "\n",
       "                             BP_systolic  fasting_blood_glucose_mg_dl  \n",
       "state_code                           NaN                          NaN  \n",
       "district_code                        NaN                          NaN  \n",
       "rural_urban                          NaN                          NaN  \n",
       "stratum                              NaN                          NaN  \n",
       "test_salt_iodine                     NaN                          NaN  \n",
       "record_code_iodine                   NaN                          NaN  \n",
       "Sex                            -0.124442                          NaN  \n",
       "Age                             0.213325                     0.127532  \n",
       "Weight_in_kg                    0.270148                     0.106400  \n",
       "Length_height_cm                0.109140                          NaN  \n",
       "Haemoglobin_level                    NaN                          NaN  \n",
       "BP_systolic                     1.000000                     0.107727  \n",
       "BP_Diastolic                    0.687652                          NaN  \n",
       "Pulse_rate                           NaN                          NaN  \n",
       "fasting_blood_glucose_mg_dl     0.107727                     1.000000  \n",
       "Marital_status                       NaN                          NaN  \n",
       "gauna_perfor_not_perfor         0.113688                          NaN  \n",
       "duration_pregnanacy                  NaN                          NaN  \n",
       "bmi                             0.241987                          NaN  "
      ]
     },
     "execution_count": 50,
     "metadata": {},
     "output_type": "execute_result"
    }
   ],
   "source": [
    "corr=data.corr()[['Haemoglobin_level', 'Pulse_rate', 'BP_Diastolic', 'BP_systolic', 'fasting_blood_glucose_mg_dl']]\n",
    "corr.where(abs(corr)>0.1)"
   ]
  },
  {
   "cell_type": "code",
   "execution_count": 51,
   "metadata": {},
   "outputs": [
    {
     "data": {
      "text/html": [
       "<div>\n",
       "<style scoped>\n",
       "    .dataframe tbody tr th:only-of-type {\n",
       "        vertical-align: middle;\n",
       "    }\n",
       "\n",
       "    .dataframe tbody tr th {\n",
       "        vertical-align: top;\n",
       "    }\n",
       "\n",
       "    .dataframe thead th {\n",
       "        text-align: right;\n",
       "    }\n",
       "</style>\n",
       "<table border=\"1\" class=\"dataframe\">\n",
       "  <thead>\n",
       "    <tr style=\"text-align: right;\">\n",
       "      <th></th>\n",
       "      <th>Haemoglobin_level</th>\n",
       "      <th>Pulse_rate</th>\n",
       "      <th>BP_Diastolic</th>\n",
       "      <th>BP_systolic</th>\n",
       "      <th>fasting_blood_glucose_mg_dl</th>\n",
       "    </tr>\n",
       "  </thead>\n",
       "  <tbody>\n",
       "    <tr>\n",
       "      <th>state_code</th>\n",
       "      <td>NaN</td>\n",
       "      <td>NaN</td>\n",
       "      <td>NaN</td>\n",
       "      <td>NaN</td>\n",
       "      <td>NaN</td>\n",
       "    </tr>\n",
       "    <tr>\n",
       "      <th>Sex</th>\n",
       "      <td>-0.178656</td>\n",
       "      <td>0.167566</td>\n",
       "      <td>NaN</td>\n",
       "      <td>-0.124442</td>\n",
       "      <td>NaN</td>\n",
       "    </tr>\n",
       "    <tr>\n",
       "      <th>Age</th>\n",
       "      <td>NaN</td>\n",
       "      <td>NaN</td>\n",
       "      <td>0.184492</td>\n",
       "      <td>0.213325</td>\n",
       "      <td>0.127532</td>\n",
       "    </tr>\n",
       "    <tr>\n",
       "      <th>Weight_in_kg</th>\n",
       "      <td>0.115508</td>\n",
       "      <td>NaN</td>\n",
       "      <td>0.281701</td>\n",
       "      <td>0.270148</td>\n",
       "      <td>0.106400</td>\n",
       "    </tr>\n",
       "    <tr>\n",
       "      <th>Length_height_cm</th>\n",
       "      <td>0.181311</td>\n",
       "      <td>-0.110651</td>\n",
       "      <td>0.108778</td>\n",
       "      <td>0.109140</td>\n",
       "      <td>NaN</td>\n",
       "    </tr>\n",
       "    <tr>\n",
       "      <th>Haemoglobin_level</th>\n",
       "      <td>1.000000</td>\n",
       "      <td>NaN</td>\n",
       "      <td>NaN</td>\n",
       "      <td>NaN</td>\n",
       "      <td>NaN</td>\n",
       "    </tr>\n",
       "    <tr>\n",
       "      <th>BP_systolic</th>\n",
       "      <td>NaN</td>\n",
       "      <td>NaN</td>\n",
       "      <td>0.687652</td>\n",
       "      <td>1.000000</td>\n",
       "      <td>0.107727</td>\n",
       "    </tr>\n",
       "    <tr>\n",
       "      <th>BP_Diastolic</th>\n",
       "      <td>NaN</td>\n",
       "      <td>0.186358</td>\n",
       "      <td>1.000000</td>\n",
       "      <td>0.687652</td>\n",
       "      <td>NaN</td>\n",
       "    </tr>\n",
       "    <tr>\n",
       "      <th>Pulse_rate</th>\n",
       "      <td>NaN</td>\n",
       "      <td>1.000000</td>\n",
       "      <td>0.186358</td>\n",
       "      <td>NaN</td>\n",
       "      <td>NaN</td>\n",
       "    </tr>\n",
       "    <tr>\n",
       "      <th>fasting_blood_glucose_mg_dl</th>\n",
       "      <td>NaN</td>\n",
       "      <td>NaN</td>\n",
       "      <td>NaN</td>\n",
       "      <td>0.107727</td>\n",
       "      <td>1.000000</td>\n",
       "    </tr>\n",
       "    <tr>\n",
       "      <th>Marital_status</th>\n",
       "      <td>NaN</td>\n",
       "      <td>NaN</td>\n",
       "      <td>NaN</td>\n",
       "      <td>NaN</td>\n",
       "      <td>NaN</td>\n",
       "    </tr>\n",
       "    <tr>\n",
       "      <th>gauna_perfor_not_perfor</th>\n",
       "      <td>NaN</td>\n",
       "      <td>NaN</td>\n",
       "      <td>0.105092</td>\n",
       "      <td>0.113688</td>\n",
       "      <td>NaN</td>\n",
       "    </tr>\n",
       "    <tr>\n",
       "      <th>bmi</th>\n",
       "      <td>NaN</td>\n",
       "      <td>NaN</td>\n",
       "      <td>0.258305</td>\n",
       "      <td>0.241987</td>\n",
       "      <td>NaN</td>\n",
       "    </tr>\n",
       "  </tbody>\n",
       "</table>\n",
       "</div>"
      ],
      "text/plain": [
       "                             Haemoglobin_level  Pulse_rate  BP_Diastolic  \\\n",
       "state_code                                 NaN         NaN           NaN   \n",
       "Sex                                  -0.178656    0.167566           NaN   \n",
       "Age                                        NaN         NaN      0.184492   \n",
       "Weight_in_kg                          0.115508         NaN      0.281701   \n",
       "Length_height_cm                      0.181311   -0.110651      0.108778   \n",
       "Haemoglobin_level                     1.000000         NaN           NaN   \n",
       "BP_systolic                                NaN         NaN      0.687652   \n",
       "BP_Diastolic                               NaN    0.186358      1.000000   \n",
       "Pulse_rate                                 NaN    1.000000      0.186358   \n",
       "fasting_blood_glucose_mg_dl                NaN         NaN           NaN   \n",
       "Marital_status                             NaN         NaN           NaN   \n",
       "gauna_perfor_not_perfor                    NaN         NaN      0.105092   \n",
       "bmi                                        NaN         NaN      0.258305   \n",
       "\n",
       "                             BP_systolic  fasting_blood_glucose_mg_dl  \n",
       "state_code                           NaN                          NaN  \n",
       "Sex                            -0.124442                          NaN  \n",
       "Age                             0.213325                     0.127532  \n",
       "Weight_in_kg                    0.270148                     0.106400  \n",
       "Length_height_cm                0.109140                          NaN  \n",
       "Haemoglobin_level                    NaN                          NaN  \n",
       "BP_systolic                     1.000000                     0.107727  \n",
       "BP_Diastolic                    0.687652                          NaN  \n",
       "Pulse_rate                           NaN                          NaN  \n",
       "fasting_blood_glucose_mg_dl     0.107727                     1.000000  \n",
       "Marital_status                       NaN                          NaN  \n",
       "gauna_perfor_not_perfor         0.113688                          NaN  \n",
       "bmi                             0.241987                          NaN  "
      ]
     },
     "execution_count": 51,
     "metadata": {},
     "output_type": "execute_result"
    }
   ],
   "source": [
    "data_correlated = data.drop(['district_code','rural_urban', 'stratum', 'test_salt_iodine', 'record_code_iodine', 'duration_pregnanacy'], axis = 1)\n",
    "corr = data_correlated.corr()[['Haemoglobin_level', 'Pulse_rate', 'BP_Diastolic', 'BP_systolic', 'fasting_blood_glucose_mg_dl']]\n",
    "corr.where(abs(corr)>0.1)"
   ]
  },
  {
   "cell_type": "code",
   "execution_count": 52,
   "metadata": {},
   "outputs": [
    {
     "data": {
      "text/html": [
       "<div>\n",
       "<style scoped>\n",
       "    .dataframe tbody tr th:only-of-type {\n",
       "        vertical-align: middle;\n",
       "    }\n",
       "\n",
       "    .dataframe tbody tr th {\n",
       "        vertical-align: top;\n",
       "    }\n",
       "\n",
       "    .dataframe thead th {\n",
       "        text-align: right;\n",
       "    }\n",
       "</style>\n",
       "<table border=\"1\" class=\"dataframe\">\n",
       "  <thead>\n",
       "    <tr style=\"text-align: right;\">\n",
       "      <th></th>\n",
       "      <th>state_code</th>\n",
       "      <th>stratum</th>\n",
       "      <th>test_salt_iodine</th>\n",
       "      <th>record_code_iodine</th>\n",
       "      <th>Sex</th>\n",
       "      <th>Age</th>\n",
       "      <th>Weight_in_kg</th>\n",
       "      <th>Length_height_cm</th>\n",
       "      <th>Haemoglobin_level</th>\n",
       "      <th>BP_systolic</th>\n",
       "      <th>BP_Diastolic</th>\n",
       "      <th>Pulse_rate</th>\n",
       "      <th>fasting_blood_glucose_mg_dl</th>\n",
       "      <th>Marital_status</th>\n",
       "      <th>gauna_perfor_not_perfor</th>\n",
       "      <th>duration_pregnanacy</th>\n",
       "      <th>bmi</th>\n",
       "    </tr>\n",
       "  </thead>\n",
       "  <tbody>\n",
       "    <tr>\n",
       "      <th>0</th>\n",
       "      <td>0</td>\n",
       "      <td>2</td>\n",
       "      <td>7</td>\n",
       "      <td>0</td>\n",
       "      <td>2</td>\n",
       "      <td>37.0</td>\n",
       "      <td>48.099998</td>\n",
       "      <td>147.89999</td>\n",
       "      <td>8.0</td>\n",
       "      <td>125.5</td>\n",
       "      <td>67.0</td>\n",
       "      <td>75.0</td>\n",
       "      <td>89.0</td>\n",
       "      <td>1.0</td>\n",
       "      <td>3.0</td>\n",
       "      <td>NaN</td>\n",
       "      <td>21.989167</td>\n",
       "    </tr>\n",
       "    <tr>\n",
       "      <th>1</th>\n",
       "      <td>0</td>\n",
       "      <td>2</td>\n",
       "      <td>7</td>\n",
       "      <td>0</td>\n",
       "      <td>1</td>\n",
       "      <td>17.0</td>\n",
       "      <td>25.600000</td>\n",
       "      <td>160.30000</td>\n",
       "      <td>15.0</td>\n",
       "      <td>NaN</td>\n",
       "      <td>NaN</td>\n",
       "      <td>NaN</td>\n",
       "      <td>NaN</td>\n",
       "      <td>NaN</td>\n",
       "      <td>NaN</td>\n",
       "      <td>NaN</td>\n",
       "      <td>9.962605</td>\n",
       "    </tr>\n",
       "    <tr>\n",
       "      <th>7</th>\n",
       "      <td>0</td>\n",
       "      <td>2</td>\n",
       "      <td>7</td>\n",
       "      <td>0</td>\n",
       "      <td>2</td>\n",
       "      <td>47.0</td>\n",
       "      <td>49.200001</td>\n",
       "      <td>147.70000</td>\n",
       "      <td>10.5</td>\n",
       "      <td>133.0</td>\n",
       "      <td>91.0</td>\n",
       "      <td>97.0</td>\n",
       "      <td>91.0</td>\n",
       "      <td>1.0</td>\n",
       "      <td>3.0</td>\n",
       "      <td>NaN</td>\n",
       "      <td>22.552990</td>\n",
       "    </tr>\n",
       "    <tr>\n",
       "      <th>10</th>\n",
       "      <td>0</td>\n",
       "      <td>2</td>\n",
       "      <td>7</td>\n",
       "      <td>0</td>\n",
       "      <td>1</td>\n",
       "      <td>33.0</td>\n",
       "      <td>53.599998</td>\n",
       "      <td>164.10001</td>\n",
       "      <td>8.0</td>\n",
       "      <td>126.5</td>\n",
       "      <td>89.0</td>\n",
       "      <td>75.0</td>\n",
       "      <td>90.0</td>\n",
       "      <td>NaN</td>\n",
       "      <td>NaN</td>\n",
       "      <td>NaN</td>\n",
       "      <td>19.904330</td>\n",
       "    </tr>\n",
       "    <tr>\n",
       "      <th>11</th>\n",
       "      <td>0</td>\n",
       "      <td>2</td>\n",
       "      <td>7</td>\n",
       "      <td>0</td>\n",
       "      <td>2</td>\n",
       "      <td>25.0</td>\n",
       "      <td>47.000000</td>\n",
       "      <td>147.80000</td>\n",
       "      <td>11.0</td>\n",
       "      <td>116.5</td>\n",
       "      <td>67.5</td>\n",
       "      <td>94.5</td>\n",
       "      <td>96.0</td>\n",
       "      <td>1.0</td>\n",
       "      <td>2.0</td>\n",
       "      <td>7.0</td>\n",
       "      <td>21.515378</td>\n",
       "    </tr>\n",
       "  </tbody>\n",
       "</table>\n",
       "</div>"
      ],
      "text/plain": [
       "    state_code  stratum  test_salt_iodine  record_code_iodine  Sex   Age  \\\n",
       "0            0        2                 7                   0    2  37.0   \n",
       "1            0        2                 7                   0    1  17.0   \n",
       "7            0        2                 7                   0    2  47.0   \n",
       "10           0        2                 7                   0    1  33.0   \n",
       "11           0        2                 7                   0    2  25.0   \n",
       "\n",
       "    Weight_in_kg  Length_height_cm  Haemoglobin_level  BP_systolic  \\\n",
       "0      48.099998         147.89999                8.0        125.5   \n",
       "1      25.600000         160.30000               15.0          NaN   \n",
       "7      49.200001         147.70000               10.5        133.0   \n",
       "10     53.599998         164.10001                8.0        126.5   \n",
       "11     47.000000         147.80000               11.0        116.5   \n",
       "\n",
       "    BP_Diastolic  Pulse_rate  fasting_blood_glucose_mg_dl  Marital_status  \\\n",
       "0           67.0        75.0                         89.0             1.0   \n",
       "1            NaN         NaN                          NaN             NaN   \n",
       "7           91.0        97.0                         91.0             1.0   \n",
       "10          89.0        75.0                         90.0             NaN   \n",
       "11          67.5        94.5                         96.0             1.0   \n",
       "\n",
       "    gauna_perfor_not_perfor  duration_pregnanacy        bmi  \n",
       "0                       3.0                  NaN  21.989167  \n",
       "1                       NaN                  NaN   9.962605  \n",
       "7                       3.0                  NaN  22.552990  \n",
       "10                      NaN                  NaN  19.904330  \n",
       "11                      2.0                  7.0  21.515378  "
      ]
     },
     "execution_count": 52,
     "metadata": {},
     "output_type": "execute_result"
    }
   ],
   "source": [
    "data_anemia = data[['state_code',\"stratum\",\"test_salt_iodine\",\"record_code_iodine\",\"Sex\",\"Age\",\"Weight_in_kg\",\"Length_height_cm\",\"Haemoglobin_level\",\"BP_systolic\",\"BP_Diastolic\",\"Pulse_rate\",\\\n",
    "                    \"fasting_blood_glucose_mg_dl\",\"Marital_status\",'gauna_perfor_not_perfor',\"duration_pregnanacy\",\"bmi\"]]\n",
    "data_anemia.head()"
   ]
  },
  {
   "cell_type": "code",
   "execution_count": 53,
   "metadata": {},
   "outputs": [
    {
     "data": {
      "text/html": [
       "<div>\n",
       "<style scoped>\n",
       "    .dataframe tbody tr th:only-of-type {\n",
       "        vertical-align: middle;\n",
       "    }\n",
       "\n",
       "    .dataframe tbody tr th {\n",
       "        vertical-align: top;\n",
       "    }\n",
       "\n",
       "    .dataframe thead th {\n",
       "        text-align: right;\n",
       "    }\n",
       "</style>\n",
       "<table border=\"1\" class=\"dataframe\">\n",
       "  <thead>\n",
       "    <tr style=\"text-align: right;\">\n",
       "      <th></th>\n",
       "      <th>state_code</th>\n",
       "      <th>stratum</th>\n",
       "      <th>test_salt_iodine</th>\n",
       "      <th>record_code_iodine</th>\n",
       "      <th>Sex</th>\n",
       "      <th>Age</th>\n",
       "      <th>Weight_in_kg</th>\n",
       "      <th>Length_height_cm</th>\n",
       "      <th>Haemoglobin_level</th>\n",
       "      <th>BP_systolic</th>\n",
       "      <th>BP_Diastolic</th>\n",
       "      <th>Pulse_rate</th>\n",
       "      <th>fasting_blood_glucose_mg_dl</th>\n",
       "      <th>Marital_status</th>\n",
       "      <th>gauna_perfor_not_perfor</th>\n",
       "      <th>duration_pregnanacy</th>\n",
       "      <th>bmi</th>\n",
       "    </tr>\n",
       "  </thead>\n",
       "  <tbody>\n",
       "    <tr>\n",
       "      <th>count</th>\n",
       "      <td>625757.000000</td>\n",
       "      <td>625757.000000</td>\n",
       "      <td>625757.000000</td>\n",
       "      <td>625757.000000</td>\n",
       "      <td>625757.000000</td>\n",
       "      <td>625757.000000</td>\n",
       "      <td>617630.000000</td>\n",
       "      <td>616314.000000</td>\n",
       "      <td>625757.000000</td>\n",
       "      <td>523046.000000</td>\n",
       "      <td>523046.000000</td>\n",
       "      <td>528998.000000</td>\n",
       "      <td>522744.000000</td>\n",
       "      <td>321412.000000</td>\n",
       "      <td>226363.000000</td>\n",
       "      <td>41229.000000</td>\n",
       "      <td>614916.000000</td>\n",
       "    </tr>\n",
       "    <tr>\n",
       "      <th>mean</th>\n",
       "      <td>4.212584</td>\n",
       "      <td>1.103142</td>\n",
       "      <td>22.623031</td>\n",
       "      <td>0.885962</td>\n",
       "      <td>1.543160</td>\n",
       "      <td>29.945766</td>\n",
       "      <td>49.931683</td>\n",
       "      <td>155.885259</td>\n",
       "      <td>9.935201</td>\n",
       "      <td>119.269100</td>\n",
       "      <td>76.951524</td>\n",
       "      <td>80.240491</td>\n",
       "      <td>94.463319</td>\n",
       "      <td>1.358733</td>\n",
       "      <td>2.742533</td>\n",
       "      <td>8.079095</td>\n",
       "      <td>20.486705</td>\n",
       "    </tr>\n",
       "    <tr>\n",
       "      <th>std</th>\n",
       "      <td>2.446343</td>\n",
       "      <td>0.897335</td>\n",
       "      <td>9.972829</td>\n",
       "      <td>0.416529</td>\n",
       "      <td>0.498134</td>\n",
       "      <td>9.980040</td>\n",
       "      <td>11.660526</td>\n",
       "      <td>8.969083</td>\n",
       "      <td>2.350635</td>\n",
       "      <td>16.108129</td>\n",
       "      <td>12.072212</td>\n",
       "      <td>11.597481</td>\n",
       "      <td>10.882476</td>\n",
       "      <td>0.654733</td>\n",
       "      <td>0.575148</td>\n",
       "      <td>5.992292</td>\n",
       "      <td>4.202759</td>\n",
       "    </tr>\n",
       "    <tr>\n",
       "      <th>min</th>\n",
       "      <td>0.000000</td>\n",
       "      <td>0.000000</td>\n",
       "      <td>0.000000</td>\n",
       "      <td>0.000000</td>\n",
       "      <td>1.000000</td>\n",
       "      <td>15.000000</td>\n",
       "      <td>20.100000</td>\n",
       "      <td>125.400000</td>\n",
       "      <td>3.000000</td>\n",
       "      <td>61.000000</td>\n",
       "      <td>40.000000</td>\n",
       "      <td>40.000000</td>\n",
       "      <td>50.000000</td>\n",
       "      <td>1.000000</td>\n",
       "      <td>1.000000</td>\n",
       "      <td>0.000000</td>\n",
       "      <td>6.509600</td>\n",
       "    </tr>\n",
       "    <tr>\n",
       "      <th>25%</th>\n",
       "      <td>2.000000</td>\n",
       "      <td>0.000000</td>\n",
       "      <td>15.000000</td>\n",
       "      <td>1.000000</td>\n",
       "      <td>1.000000</td>\n",
       "      <td>21.000000</td>\n",
       "      <td>43.099998</td>\n",
       "      <td>150.000000</td>\n",
       "      <td>8.400000</td>\n",
       "      <td>109.000000</td>\n",
       "      <td>69.000000</td>\n",
       "      <td>72.000000</td>\n",
       "      <td>88.000000</td>\n",
       "      <td>1.000000</td>\n",
       "      <td>3.000000</td>\n",
       "      <td>4.000000</td>\n",
       "      <td>18.260565</td>\n",
       "    </tr>\n",
       "    <tr>\n",
       "      <th>50%</th>\n",
       "      <td>4.000000</td>\n",
       "      <td>1.000000</td>\n",
       "      <td>30.000000</td>\n",
       "      <td>1.000000</td>\n",
       "      <td>2.000000</td>\n",
       "      <td>29.000000</td>\n",
       "      <td>49.299999</td>\n",
       "      <td>155.600010</td>\n",
       "      <td>9.800000</td>\n",
       "      <td>118.500000</td>\n",
       "      <td>77.000000</td>\n",
       "      <td>79.500000</td>\n",
       "      <td>95.000000</td>\n",
       "      <td>1.000000</td>\n",
       "      <td>3.000000</td>\n",
       "      <td>6.000000</td>\n",
       "      <td>20.229130</td>\n",
       "    </tr>\n",
       "    <tr>\n",
       "      <th>75%</th>\n",
       "      <td>7.000000</td>\n",
       "      <td>2.000000</td>\n",
       "      <td>30.000000</td>\n",
       "      <td>1.000000</td>\n",
       "      <td>2.000000</td>\n",
       "      <td>39.000000</td>\n",
       "      <td>55.599998</td>\n",
       "      <td>162.300000</td>\n",
       "      <td>11.500000</td>\n",
       "      <td>128.000000</td>\n",
       "      <td>84.000000</td>\n",
       "      <td>87.500000</td>\n",
       "      <td>101.000000</td>\n",
       "      <td>2.000000</td>\n",
       "      <td>3.000000</td>\n",
       "      <td>10.000000</td>\n",
       "      <td>22.281390</td>\n",
       "    </tr>\n",
       "    <tr>\n",
       "      <th>max</th>\n",
       "      <td>8.000000</td>\n",
       "      <td>2.000000</td>\n",
       "      <td>67.000000</td>\n",
       "      <td>2.000000</td>\n",
       "      <td>2.000000</td>\n",
       "      <td>49.000000</td>\n",
       "      <td>4602.000000</td>\n",
       "      <td>185.800000</td>\n",
       "      <td>18.000000</td>\n",
       "      <td>249.500000</td>\n",
       "      <td>160.000000</td>\n",
       "      <td>140.000000</td>\n",
       "      <td>143.000000</td>\n",
       "      <td>7.000000</td>\n",
       "      <td>3.000000</td>\n",
       "      <td>131.000000</td>\n",
       "      <td>1910.570996</td>\n",
       "    </tr>\n",
       "  </tbody>\n",
       "</table>\n",
       "</div>"
      ],
      "text/plain": [
       "          state_code        stratum  test_salt_iodine  record_code_iodine  \\\n",
       "count  625757.000000  625757.000000     625757.000000       625757.000000   \n",
       "mean        4.212584       1.103142         22.623031            0.885962   \n",
       "std         2.446343       0.897335          9.972829            0.416529   \n",
       "min         0.000000       0.000000          0.000000            0.000000   \n",
       "25%         2.000000       0.000000         15.000000            1.000000   \n",
       "50%         4.000000       1.000000         30.000000            1.000000   \n",
       "75%         7.000000       2.000000         30.000000            1.000000   \n",
       "max         8.000000       2.000000         67.000000            2.000000   \n",
       "\n",
       "                 Sex            Age   Weight_in_kg  Length_height_cm  \\\n",
       "count  625757.000000  625757.000000  617630.000000     616314.000000   \n",
       "mean        1.543160      29.945766      49.931683        155.885259   \n",
       "std         0.498134       9.980040      11.660526          8.969083   \n",
       "min         1.000000      15.000000      20.100000        125.400000   \n",
       "25%         1.000000      21.000000      43.099998        150.000000   \n",
       "50%         2.000000      29.000000      49.299999        155.600010   \n",
       "75%         2.000000      39.000000      55.599998        162.300000   \n",
       "max         2.000000      49.000000    4602.000000        185.800000   \n",
       "\n",
       "       Haemoglobin_level    BP_systolic   BP_Diastolic     Pulse_rate  \\\n",
       "count      625757.000000  523046.000000  523046.000000  528998.000000   \n",
       "mean            9.935201     119.269100      76.951524      80.240491   \n",
       "std             2.350635      16.108129      12.072212      11.597481   \n",
       "min             3.000000      61.000000      40.000000      40.000000   \n",
       "25%             8.400000     109.000000      69.000000      72.000000   \n",
       "50%             9.800000     118.500000      77.000000      79.500000   \n",
       "75%            11.500000     128.000000      84.000000      87.500000   \n",
       "max            18.000000     249.500000     160.000000     140.000000   \n",
       "\n",
       "       fasting_blood_glucose_mg_dl  Marital_status  gauna_perfor_not_perfor  \\\n",
       "count                522744.000000   321412.000000            226363.000000   \n",
       "mean                     94.463319        1.358733                 2.742533   \n",
       "std                      10.882476        0.654733                 0.575148   \n",
       "min                      50.000000        1.000000                 1.000000   \n",
       "25%                      88.000000        1.000000                 3.000000   \n",
       "50%                      95.000000        1.000000                 3.000000   \n",
       "75%                     101.000000        2.000000                 3.000000   \n",
       "max                     143.000000        7.000000                 3.000000   \n",
       "\n",
       "       duration_pregnanacy            bmi  \n",
       "count         41229.000000  614916.000000  \n",
       "mean              8.079095      20.486705  \n",
       "std               5.992292       4.202759  \n",
       "min               0.000000       6.509600  \n",
       "25%               4.000000      18.260565  \n",
       "50%               6.000000      20.229130  \n",
       "75%              10.000000      22.281390  \n",
       "max             131.000000    1910.570996  "
      ]
     },
     "execution_count": 53,
     "metadata": {},
     "output_type": "execute_result"
    }
   ],
   "source": [
    "data_anemia.describe(include='all')"
   ]
  },
  {
   "cell_type": "code",
   "execution_count": 54,
   "metadata": {},
   "outputs": [
    {
     "data": {
      "text/plain": [
       "2    339886\n",
       "1    285871\n",
       "Name: Sex, dtype: int64"
      ]
     },
     "execution_count": 54,
     "metadata": {},
     "output_type": "execute_result"
    }
   ],
   "source": [
    "data_anemia['Sex'].value_counts()"
   ]
  },
  {
   "cell_type": "code",
   "execution_count": 55,
   "metadata": {},
   "outputs": [],
   "source": [
    "#Create a dataframe \n",
    "# Create a new column anemia where female_HB is less than or equal to 7\n",
    "# In Anemia Column: 1 indicates Anemia and 0 indicates no Anemia\n",
    "#Sex=2 means female, gauna_perfor_not_perfor']==1 means pregnant \n",
    "severe_anemia=data_anemia[(data_anemia['Sex'] == 2) & (data_anemia['gauna_perfor_not_perfor']==1)]\n"
   ]
  },
  {
   "cell_type": "code",
   "execution_count": 56,
   "metadata": {},
   "outputs": [],
   "source": [
    "severe_anemia['anemia'] = np.where((severe_anemia['Haemoglobin_level'] <= 7.0), 1, 0)"
   ]
  },
  {
   "cell_type": "code",
   "execution_count": 57,
   "metadata": {},
   "outputs": [
    {
     "data": {
      "text/plain": [
       "0    12883\n",
       "1     2881\n",
       "Name: anemia, dtype: int64"
      ]
     },
     "execution_count": 57,
     "metadata": {},
     "output_type": "execute_result"
    }
   ],
   "source": [
    "severe_anemia['anemia'].value_counts()"
   ]
  },
  {
   "cell_type": "code",
   "execution_count": 58,
   "metadata": {},
   "outputs": [
    {
     "data": {
      "text/html": [
       "<div>\n",
       "<style scoped>\n",
       "    .dataframe tbody tr th:only-of-type {\n",
       "        vertical-align: middle;\n",
       "    }\n",
       "\n",
       "    .dataframe tbody tr th {\n",
       "        vertical-align: top;\n",
       "    }\n",
       "\n",
       "    .dataframe thead th {\n",
       "        text-align: right;\n",
       "    }\n",
       "</style>\n",
       "<table border=\"1\" class=\"dataframe\">\n",
       "  <thead>\n",
       "    <tr style=\"text-align: right;\">\n",
       "      <th></th>\n",
       "      <th>Haemoglobin_level</th>\n",
       "      <th>anemia</th>\n",
       "    </tr>\n",
       "  </thead>\n",
       "  <tbody>\n",
       "    <tr>\n",
       "      <th>967</th>\n",
       "      <td>8.5</td>\n",
       "      <td>0</td>\n",
       "    </tr>\n",
       "    <tr>\n",
       "      <th>2070</th>\n",
       "      <td>11.0</td>\n",
       "      <td>0</td>\n",
       "    </tr>\n",
       "    <tr>\n",
       "      <th>2256</th>\n",
       "      <td>9.5</td>\n",
       "      <td>0</td>\n",
       "    </tr>\n",
       "    <tr>\n",
       "      <th>2641</th>\n",
       "      <td>9.0</td>\n",
       "      <td>0</td>\n",
       "    </tr>\n",
       "    <tr>\n",
       "      <th>2642</th>\n",
       "      <td>8.5</td>\n",
       "      <td>0</td>\n",
       "    </tr>\n",
       "    <tr>\n",
       "      <th>...</th>\n",
       "      <td>...</td>\n",
       "      <td>...</td>\n",
       "    </tr>\n",
       "    <tr>\n",
       "      <th>1888628</th>\n",
       "      <td>8.1</td>\n",
       "      <td>0</td>\n",
       "    </tr>\n",
       "    <tr>\n",
       "      <th>1889013</th>\n",
       "      <td>7.3</td>\n",
       "      <td>0</td>\n",
       "    </tr>\n",
       "    <tr>\n",
       "      <th>1889048</th>\n",
       "      <td>9.0</td>\n",
       "      <td>0</td>\n",
       "    </tr>\n",
       "    <tr>\n",
       "      <th>1889101</th>\n",
       "      <td>9.0</td>\n",
       "      <td>0</td>\n",
       "    </tr>\n",
       "    <tr>\n",
       "      <th>1889299</th>\n",
       "      <td>8.4</td>\n",
       "      <td>0</td>\n",
       "    </tr>\n",
       "  </tbody>\n",
       "</table>\n",
       "<p>15764 rows × 2 columns</p>\n",
       "</div>"
      ],
      "text/plain": [
       "         Haemoglobin_level  anemia\n",
       "967                    8.5       0\n",
       "2070                  11.0       0\n",
       "2256                   9.5       0\n",
       "2641                   9.0       0\n",
       "2642                   8.5       0\n",
       "...                    ...     ...\n",
       "1888628                8.1       0\n",
       "1889013                7.3       0\n",
       "1889048                9.0       0\n",
       "1889101                9.0       0\n",
       "1889299                8.4       0\n",
       "\n",
       "[15764 rows x 2 columns]"
      ]
     },
     "execution_count": 58,
     "metadata": {},
     "output_type": "execute_result"
    }
   ],
   "source": [
    "severe_anemia[['Haemoglobin_level','anemia']]"
   ]
  },
  {
   "cell_type": "code",
   "execution_count": 59,
   "metadata": {},
   "outputs": [
    {
     "data": {
      "text/plain": [
       "state_code                       0\n",
       "stratum                          0\n",
       "test_salt_iodine                 0\n",
       "record_code_iodine               0\n",
       "Sex                              0\n",
       "Age                              0\n",
       "Weight_in_kg                   125\n",
       "Length_height_cm               144\n",
       "Haemoglobin_level                0\n",
       "BP_systolic                    908\n",
       "BP_Diastolic                   908\n",
       "Pulse_rate                     840\n",
       "fasting_blood_glucose_mg_dl    700\n",
       "Marital_status                  10\n",
       "gauna_perfor_not_perfor          0\n",
       "duration_pregnanacy            544\n",
       "bmi                            164\n",
       "anemia                           0\n",
       "dtype: int64"
      ]
     },
     "execution_count": 59,
     "metadata": {},
     "output_type": "execute_result"
    }
   ],
   "source": [
    "severe_anemia.isnull().sum()"
   ]
  },
  {
   "cell_type": "code",
   "execution_count": 60,
   "metadata": {},
   "outputs": [],
   "source": [
    "#Apply Imputer to remove Nan values"
   ]
  },
  {
   "cell_type": "code",
   "execution_count": 61,
   "metadata": {},
   "outputs": [],
   "source": [
    "from sklearn.impute import SimpleImputer\n",
    "imputer = SimpleImputer()\n",
    "severe_anemia_imputed = pd.DataFrame(imputer.fit_transform(severe_anemia))\n",
    "severe_anemia_imputed.columns = severe_anemia.columns\n",
    "severe_anemia_imputed.index = severe_anemia.index\n",
    "severe_anemia = severe_anemia_imputed"
   ]
  },
  {
   "cell_type": "code",
   "execution_count": 62,
   "metadata": {},
   "outputs": [
    {
     "data": {
      "text/plain": [
       "state_code                     0\n",
       "stratum                        0\n",
       "test_salt_iodine               0\n",
       "record_code_iodine             0\n",
       "Sex                            0\n",
       "Age                            0\n",
       "Weight_in_kg                   0\n",
       "Length_height_cm               0\n",
       "Haemoglobin_level              0\n",
       "BP_systolic                    0\n",
       "BP_Diastolic                   0\n",
       "Pulse_rate                     0\n",
       "fasting_blood_glucose_mg_dl    0\n",
       "Marital_status                 0\n",
       "gauna_perfor_not_perfor        0\n",
       "duration_pregnanacy            0\n",
       "bmi                            0\n",
       "anemia                         0\n",
       "dtype: int64"
      ]
     },
     "execution_count": 62,
     "metadata": {},
     "output_type": "execute_result"
    }
   ],
   "source": [
    "#Check for null values\n",
    "severe_anemia.isnull().sum()"
   ]
  },
  {
   "cell_type": "code",
   "execution_count": 63,
   "metadata": {},
   "outputs": [
    {
     "data": {
      "text/plain": [
       "state_code  Sex  anemia\n",
       "0.0         2.0  0.0        342\n",
       "                 1.0         59\n",
       "1.0         2.0  0.0       2111\n",
       "                 1.0        747\n",
       "2.0         2.0  0.0       1189\n",
       "                 1.0        176\n",
       "3.0         2.0  0.0        490\n",
       "                 1.0         81\n",
       "4.0         2.0  0.0       1962\n",
       "                 1.0        516\n",
       "5.0         2.0  0.0       1743\n",
       "                 1.0        104\n",
       "6.0         2.0  0.0       1414\n",
       "                 1.0        335\n",
       "7.0         2.0  0.0       3332\n",
       "                 1.0        753\n",
       "8.0         2.0  0.0        300\n",
       "                 1.0        110\n",
       "Name: anemia, dtype: int64"
      ]
     },
     "execution_count": 63,
     "metadata": {},
     "output_type": "execute_result"
    }
   ],
   "source": [
    "state=severe_anemia.groupby([\"state_code\",\"Sex\",\"anemia\"])[\"anemia\"].count()\n",
    "state"
   ]
  },
  {
   "cell_type": "code",
   "execution_count": 64,
   "metadata": {},
   "outputs": [],
   "source": [
    "ab=severe_anemia[severe_anemia['anemia']==1]"
   ]
  },
  {
   "cell_type": "code",
   "execution_count": 65,
   "metadata": {},
   "outputs": [
    {
     "data": {
      "text/plain": [
       "state_code\n",
       "0.0     59\n",
       "1.0    747\n",
       "2.0    176\n",
       "3.0     81\n",
       "4.0    516\n",
       "5.0    104\n",
       "6.0    335\n",
       "7.0    753\n",
       "8.0    110\n",
       "Name: anemia, dtype: int64"
      ]
     },
     "execution_count": 65,
     "metadata": {},
     "output_type": "execute_result"
    }
   ],
   "source": [
    "state=ab.groupby([\"state_code\"])[\"anemia\"].count()\n",
    "state"
   ]
  },
  {
   "cell_type": "code",
   "execution_count": 66,
   "metadata": {},
   "outputs": [
    {
     "data": {
      "text/plain": [
       "Text(0, 0.5, 'No. of Females')"
      ]
     },
     "execution_count": 66,
     "metadata": {},
     "output_type": "execute_result"
    },
    {
     "data": {
      "image/png": "[encoded data removed]",
      "text/plain": [
       "<Figure size 432x288 with 1 Axes>"
      ]
     },
     "metadata": {
      "needs_background": "light"
     },
     "output_type": "display_data"
    }
   ],
   "source": [
    "state.plot(kind='bar')\n",
    "plt.xlabel('state_code')\n",
    "plt.title('Severe Anemia in EAG states')\n",
    "plt.ylabel('No. of Females')"
   ]
  },
  {
   "cell_type": "code",
   "execution_count": 67,
   "metadata": {},
   "outputs": [
    {
     "data": {
      "text/plain": [
       "array([[<matplotlib.axes._subplots.AxesSubplot object at 0x000002392B2DF4C8>,\n",
       "        <matplotlib.axes._subplots.AxesSubplot object at 0x00000238DBF89608>,\n",
       "        <matplotlib.axes._subplots.AxesSubplot object at 0x00000238DBFBFF48>,\n",
       "        <matplotlib.axes._subplots.AxesSubplot object at 0x00000238DBFFE0C8>],\n",
       "       [<matplotlib.axes._subplots.AxesSubplot object at 0x000002392B3151C8>,\n",
       "        <matplotlib.axes._subplots.AxesSubplot object at 0x000002392B34D288>,\n",
       "        <matplotlib.axes._subplots.AxesSubplot object at 0x000002392B387388>,\n",
       "        <matplotlib.axes._subplots.AxesSubplot object at 0x000002392B3C7F88>],\n",
       "       [<matplotlib.axes._subplots.AxesSubplot object at 0x000002392B3CE088>,\n",
       "        <matplotlib.axes._subplots.AxesSubplot object at 0x000002392B403248>,\n",
       "        <matplotlib.axes._subplots.AxesSubplot object at 0x000002392B46A7C8>,\n",
       "        <matplotlib.axes._subplots.AxesSubplot object at 0x000002392B4A1888>],\n",
       "       [<matplotlib.axes._subplots.AxesSubplot object at 0x000002392B4DA9C8>,\n",
       "        <matplotlib.axes._subplots.AxesSubplot object at 0x000002392B516B08>,\n",
       "        <matplotlib.axes._subplots.AxesSubplot object at 0x000002392B54BC08>,\n",
       "        <matplotlib.axes._subplots.AxesSubplot object at 0x000002392B585D08>],\n",
       "       [<matplotlib.axes._subplots.AxesSubplot object at 0x000002392B5BDD88>,\n",
       "        <matplotlib.axes._subplots.AxesSubplot object at 0x000002392B5F8E88>,\n",
       "        <matplotlib.axes._subplots.AxesSubplot object at 0x000002392B62FF88>,\n",
       "        <matplotlib.axes._subplots.AxesSubplot object at 0x000002392B66C1C8>]],\n",
       "      dtype=object)"
      ]
     },
     "execution_count": 67,
     "metadata": {},
     "output_type": "execute_result"
    },
    {
     "data": {
      "image/png": "[encoded data removed]",
      "text/plain": [
       "<Figure size 1440x1440 with 20 Axes>"
      ]
     },
     "metadata": {
      "needs_background": "light"
     },
     "output_type": "display_data"
    }
   ],
   "source": [
    "#Plot Histogram for the Severe_anemia dataframe\n",
    "severe_anemia.hist(bins=25,figsize=(20,20))"
   ]
  },
  {
   "cell_type": "code",
   "execution_count": 68,
   "metadata": {},
   "outputs": [],
   "source": [
    "#Drop HB_level Column\n",
    "severe_anemia=severe_anemia.drop(['Haemoglobin_level','Marital_status','state_code'],axis=1)"
   ]
  },
  {
   "cell_type": "code",
   "execution_count": 69,
   "metadata": {},
   "outputs": [],
   "source": [
    "#Split the Dataframe into training and test set\n",
    "#Test set size = 20% and train set size=80%"
   ]
  },
  {
   "cell_type": "code",
   "execution_count": 70,
   "metadata": {},
   "outputs": [],
   "source": [
    "from sklearn.model_selection import train_test_split\n",
    "X = severe_anemia.drop('anemia',axis=1)\n",
    "y = severe_anemia.anemia\n",
    "X_train,X_test,y_train,y_test = train_test_split(X,y,test_size=0.2,random_state=1)"
   ]
  },
  {
   "cell_type": "code",
   "execution_count": 71,
   "metadata": {},
   "outputs": [],
   "source": [
    "from sklearn.preprocessing import StandardScaler\n",
    "scaler = StandardScaler()\n",
    "scaler.fit(X_train)\n",
    "X_train = scaler.transform(X_train)\n",
    "X_test = scaler.transform(X_test)"
   ]
  },
  {
   "cell_type": "code",
   "execution_count": 72,
   "metadata": {},
   "outputs": [],
   "source": [
    "from sklearn.metrics import mean_squared_error,confusion_matrix, precision_score, recall_score,roc_curve\n",
    "from sklearn import ensemble, linear_model, neighbors, svm\n",
    "from sklearn import model_selection\n",
    "MLA = [\n",
    "    #Ensemble Methods\n",
    "    ensemble.RandomForestClassifier(),\n",
    "    #GLM\n",
    "    linear_model.LogisticRegressionCV(),\n",
    "    #Nearest Neighbor\n",
    "    neighbors.KNeighborsClassifier(),\n",
    "    #SVM\n",
    "    svm.SVC(probability=True)     \n",
    "    ]"
   ]
  },
  {
   "cell_type": "code",
   "execution_count": null,
   "metadata": {},
   "outputs": [],
   "source": [
    "MLA_columns = []\n",
    "MLA_compare = pd.DataFrame(columns = MLA_columns)\n",
    "row_index = 0\n",
    "for alg in MLA:\n",
    "    predicted = alg.fit(X_train, y_train).predict(X_test)\n",
    "    fp, tp, th = roc_curve(y_test, predicted)\n",
    "    MLA_name = alg.__class__.__name__\n",
    "    MLA_compare.loc[row_index,'MLA Name'] = MLA_name\n",
    "    MLA_compare.loc[row_index, 'MLA Train Accuracy'] = round(alg.score(X_train, y_train), 4)\n",
    "    MLA_compare.loc[row_index, 'MLA Test Accuracy'] = round(alg.score(X_test, y_test), 4)\n",
    "    MLA_compare.loc[row_index, 'MLA Precission'] = precision_score(y_test, predicted)\n",
    "    MLA_compare.loc[row_index, 'MLA Recall'] = recall_score(y_test, predicted)\n",
    "    #MLA_compare.loc[row_index, 'MLA AUC'] = auc(fp, tp)\n",
    "    row_index+=1\n",
    "    \n",
    "MLA_compare.sort_values(by = ['MLA Test Accuracy'], ascending = False, inplace = True)    \n",
    "MLA_compare"
   ]
  },
  {
   "cell_type": "code",
   "execution_count": null,
   "metadata": {},
   "outputs": [],
   "source": [
    "import matplotlib.pyplot as plt\n",
    "#from math import sqrt\n",
    "import seaborn as sns\n",
    "\n",
    "plt.subplots(figsize=(15,6))\n",
    "sns.barplot(x=\"MLA Name\", y=\"MLA Train Accuracy\",data=MLA_compare,palette='YlGn')\n",
    "plt.xticks(rotation=90)\n",
    "plt.title('MLA Train Accuracy Comparison')\n",
    "plt.show()\n"
   ]
  },
  {
   "cell_type": "code",
   "execution_count": null,
   "metadata": {},
   "outputs": [],
   "source": [
    "plt.subplots(figsize=(15,6))\n",
    "sns.barplot(x=\"MLA Name\", y=\"MLA Test Accuracy\",data=MLA_compare,palette='Blues_d')\n",
    "plt.xticks(rotation=90)\n",
    "plt.title('MLA Test Accuracy Comparison')\n",
    "plt.show()"
   ]
  },
  {
   "cell_type": "code",
   "execution_count": null,
   "metadata": {},
   "outputs": [],
   "source": [
    "plt.subplots(figsize=(15,6))\n",
    "sns.barplot(x=\"MLA Name\", y=\"MLA Precission\",data=MLA_compare,palette='PRGn')\n",
    "plt.xticks(rotation=90)\n",
    "plt.title('MLA Precission Comparison')\n",
    "plt.show()"
   ]
  },
  {
   "cell_type": "code",
   "execution_count": null,
   "metadata": {},
   "outputs": [],
   "source": [
    "plt.subplots(figsize=(15,6))\n",
    "sns.barplot(x=\"MLA Name\", y=\"MLA Recall\",data=MLA_compare,palette='OrRd')\n",
    "plt.xticks(rotation=90)\n",
    "plt.title('MLA Recall Comparison')\n",
    "plt.show()\n"
   ]
  },
  {
   "cell_type": "code",
   "execution_count": null,
   "metadata": {},
   "outputs": [],
   "source": []
  }
 ],
 "metadata": {
  "kernelspec": {
   "display_name": "Python 3",
   "language": "python",
   "name": "python3"
  },
  "language_info": {
   "codemirror_mode": {
    "name": "ipython",
    "version": 3
   },
   "file_extension": ".py",
   "mimetype": "text/x-python",
   "name": "python",
   "nbconvert_exporter": "python",
   "pygments_lexer": "ipython3",
   "version": "3.7.6"
  }
 },
 "nbformat": 4,
 "nbformat_minor": 4
}
